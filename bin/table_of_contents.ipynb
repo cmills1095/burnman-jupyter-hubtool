{
 "cells": [
  {
   "cell_type": "markdown",
   "id": "56bf5b69-c6f2-4d22-8a33-f17b1ff3504c",
   "metadata": {},
   "source": [
    "# Table of Contents"
   ]
  },
  {
   "cell_type": "markdown",
   "id": "cde0a9b3-20f0-4e9b-af67-de9c20751e21",
   "metadata": {},
   "source": [
    "## [Tutorial 1: Material Classes](./tutorial_01_material_classes.ipynb)\n",
    "\n",
    "<b>Demonstrates</b>\n",
    "\n",
    "1. burnman.Mineral: Equations of state, property modification schemes, initialization, interrogating properties at given pressure and temperature. \n",
    "2. burnman.CombinedMineral: Initialization (otherwise similar to mineral).\n",
    "3. burnman.Solution: Formulations (ideal, asymmetric, subregular), initialization, interrogating properties at given pressure, temperature and composition. \n",
    "4. burnman.Composite: Initialization, interrogating properties at given pressure, temperature, phase proportions and using different seismic averaging schemes. "
   ]
  },
  {
   "cell_type": "markdown",
   "id": "9dfb80b9-6813-4043-a7ec-83575628857a",
   "metadata": {
    "tags": []
   },
   "source": [
    "## [Tutorial 2: The Composition Class](./tutorial_02_composition_class.ipynb)\n",
    "\n",
    "<b>Demonstrates</b>\n",
    "\n",
    "1. burnman.Composition: Defining Composition objects, converting between molar, weight and atomic amounts, changing component bases. and modifying compositions."
   ]
  },
  {
   "cell_type": "markdown",
   "id": "c278e6b0-68e8-4f1e-8e52-db7ee48acc76",
   "metadata": {},
   "source": [
    "## [Tutorial 3: Layers and Planets](./tutorial_03_layers_and_planets.ipynb)\n",
    "\n",
    "<b>Demonstrates</b>\n",
    "\n",
    "1. burnman.Layer\n",
    "2. burnman.Planet\n"
   ]
  },
  {
   "cell_type": "markdown",
   "id": "8292a4ed-291d-4dcb-913e-0a37c88f3523",
   "metadata": {},
   "source": [
    "## [Tutorial 4: Fitting](./tutorial_04_fitting.ipynb)\n",
    "\n",
    "<b>Demonstrates</b>\n",
    "\n",
    "1. burnman.optimize.eos_fitting.fit_PTV_data\n",
    "2. burnman.optimize.composition_fitting.fit_composition_to_solution\n",
    "3. burnman.optimize.composition_fitting.fit_phase_proportions_to_bulk_composition"
   ]
  },
  {
   "cell_type": "markdown",
   "id": "ebce224e-69b6-440f-a5e2-9f3346c309b1",
   "metadata": {},
   "source": [
    "## [Tutorial 5: Equilibrium Problems](./tutorial_05_equilibrium.ipynb)\n",
    "\n",
    "<b>Demonstrates</b>\n",
    "\n",
    "1. burnman.equilibrate, an experimental function that determines the bulk elemental composition, pressure, temperature, phase proportions and compositions of an assemblage subject to user-defined constraints."
   ]
  },
  {
   "cell_type": "code",
   "execution_count": null,
   "id": "5f532c19-cbdd-45d6-a2f3-49392ddf0f6e",
   "metadata": {},
   "outputs": [],
   "source": []
  }
 ],
 "metadata": {
  "kernelspec": {
   "display_name": "Python 3 (ipykernel)",
   "language": "python",
   "name": "python3"
  },
  "language_info": {
   "codemirror_mode": {
    "name": "ipython",
    "version": 3
   },
   "file_extension": ".py",
   "mimetype": "text/x-python",
   "name": "python",
   "nbconvert_exporter": "python",
   "pygments_lexer": "ipython3",
   "version": "3.8.13"
  }
 },
 "nbformat": 4,
 "nbformat_minor": 5
}
